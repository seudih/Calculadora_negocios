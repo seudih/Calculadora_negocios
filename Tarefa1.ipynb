{
  "nbformat": 4,
  "nbformat_minor": 0,
  "metadata": {
    "colab": {
      "provenance": [],
      "toc_visible": true
    },
    "kernelspec": {
      "name": "python3",
      "display_name": "Python 3"
    },
    "language_info": {
      "name": "python"
    }
  },
  "cells": [
    {
      "cell_type": "code",
      "execution_count": 17,
      "metadata": {
        "id": "woOApOb6Aai4",
        "colab": {
          "base_uri": "https://localhost:8080/"
        },
        "outputId": "3cd4ceb5-9a4b-4b8f-b14f-e6ef2b062f67"
      },
      "outputs": [
        {
          "output_type": "stream",
          "name": "stdout",
          "text": [
            "Qual o seu nome?Camila\n",
            "Olá, Camila seja bem vindo a calculadora de negócios!\n",
            "Camila Para iniciar, informe o valor de custo do seu produto\n",
            "Digite o valor: 77\n",
            "Camila Agora informe o calculo que deseja efetuar: soma de estoque, divisão de custo, margem de lucro ou subtração de vendas: \n",
            "Digite o calculo: soma de estoque\n",
            "Camila Agora informe a quantidade de estoque: \n",
            "Digite o valor: 100\n",
            "O valor em estoque é de 7700\n"
          ]
        }
      ],
      "source": [
        "\n",
        "#Idenificação do usuario e saudação\n",
        "nome = input ('Qual o seu nome?' )\n",
        "print ('Olá,', nome, 'seja bem vindo a calculadora de negócios!')\n",
        "\n",
        "\n",
        "#Solicitação de entrada de valores\n",
        "print (nome, 'Para iniciar, informe o valor de custo do seu produto')\n",
        "valorprod = input ('Digite o valor: ')\n",
        "print (nome, 'Agora informe o calculo que deseja efetuar: soma de estoque, divisão de custo, margem de lucro ou subtração de vendas: ')\n",
        "calc = input ('Digite o calculo: ')\n",
        "if calc == 'soma de estoque':\n",
        "    print (nome, 'Agora informe a quantidade de estoque: ')\n",
        "    valorest = input ('Digite o valor: ')\n",
        "elif calc == 'divisão de custo':\n",
        "    print (nome, 'Agora informe a quantidade de processos existentes no seu produto/serviço')\n",
        "    valorcust = input ('Digite o valor: ')\n",
        "elif calc == 'margem de lucro':\n",
        "  print ('A margem de lucro é de' , int(valorprod) * int(30)/100)\n",
        "elif calc == 'subtração de vendas':\n",
        "    print (nome, 'Agora informe a quantidade de vendas: ')\n",
        "    valorvend = input ('Digite o valor: ')\n",
        "else:\n",
        "    print ('Operação incompativel')\n",
        "\n",
        "#calculo das operações\n",
        "if calc == 'soma de estoque':\n",
        "  print ('O valor em estoque é de' , int(valorprod) * int(valorest))\n",
        "elif calc == 'divisão de custo':\n",
        "  print ('O valor do custo é de' , int(valorprod) / int(valorcust))\n",
        "elif calc == 'subtração de vendas':\n",
        "  print ('A quantidade de vendas é de' , int(valorprod) * int(valorvend))\n",
        "elif calc == 'margem de lucro':\n",
        "  print ('Este lucro está baseado em uma taxa de 30%')\n",
        "else:\n",
        "  print ('Operação incompativel')\n",
        "\n",
        "\n"
      ]
    }
  ]
}